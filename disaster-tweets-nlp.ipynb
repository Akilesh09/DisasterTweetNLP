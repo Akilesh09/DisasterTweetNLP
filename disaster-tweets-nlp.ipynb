{
 "cells": [
  {
   "cell_type": "code",
   "execution_count": 1,
   "id": "0804754e",
   "metadata": {
    "_cell_guid": "b1076dfc-b9ad-4769-8c92-a6c4dae69d19",
    "_uuid": "8f2839f25d086af736a60e9eeb907d3b93b6e0e5",
    "execution": {
     "iopub.execute_input": "2024-07-13T05:37:47.570924Z",
     "iopub.status.busy": "2024-07-13T05:37:47.570512Z",
     "iopub.status.idle": "2024-07-13T05:37:48.428086Z",
     "shell.execute_reply": "2024-07-13T05:37:48.426671Z"
    },
    "papermill": {
     "duration": 0.865933,
     "end_time": "2024-07-13T05:37:48.430547",
     "exception": false,
     "start_time": "2024-07-13T05:37:47.564614",
     "status": "completed"
    },
    "tags": []
   },
   "outputs": [
    {
     "name": "stdout",
     "output_type": "stream",
     "text": [
      "/kaggle/input/nlp-getting-started/sample_submission.csv\n",
      "/kaggle/input/nlp-getting-started/train.csv\n",
      "/kaggle/input/nlp-getting-started/test.csv\n"
     ]
    }
   ],
   "source": [
    "# This Python 3 environment comes with many helpful analytics libraries installed\n",
    "# It is defined by the kaggle/python Docker image: https://github.com/kaggle/docker-python\n",
    "# For example, here's several helpful packages to load\n",
    "\n",
    "import numpy as np # linear algebra\n",
    "import pandas as pd # data processing, CSV file I/O (e.g. pd.read_csv)\n",
    "\n",
    "# Input data files are available in the read-only \"../input/\" directory\n",
    "# For example, running this (by clicking run or pressing Shift+Enter) will list all files under the input directory\n",
    "\n",
    "import os\n",
    "for dirname, _, filenames in os.walk('/kaggle/input'):\n",
    "    for filename in filenames:\n",
    "        print(os.path.join(dirname, filename))\n",
    "\n",
    "# You can write up to 20GB to the current directory (/kaggle/working/) that gets preserved as output when you create a version using \"Save & Run All\" \n",
    "# You can also write temporary files to /kaggle/temp/, but they won't be saved outside of the current session"
   ]
  },
  {
   "cell_type": "code",
   "execution_count": 2,
   "id": "04557e7a",
   "metadata": {
    "execution": {
     "iopub.execute_input": "2024-07-13T05:37:48.440180Z",
     "iopub.status.busy": "2024-07-13T05:37:48.439700Z",
     "iopub.status.idle": "2024-07-13T05:37:48.515065Z",
     "shell.execute_reply": "2024-07-13T05:37:48.513956Z"
    },
    "papermill": {
     "duration": 0.082774,
     "end_time": "2024-07-13T05:37:48.517451",
     "exception": false,
     "start_time": "2024-07-13T05:37:48.434677",
     "status": "completed"
    },
    "tags": []
   },
   "outputs": [
    {
     "data": {
      "text/html": [
       "<div>\n",
       "<style scoped>\n",
       "    .dataframe tbody tr th:only-of-type {\n",
       "        vertical-align: middle;\n",
       "    }\n",
       "\n",
       "    .dataframe tbody tr th {\n",
       "        vertical-align: top;\n",
       "    }\n",
       "\n",
       "    .dataframe thead th {\n",
       "        text-align: right;\n",
       "    }\n",
       "</style>\n",
       "<table border=\"1\" class=\"dataframe\">\n",
       "  <thead>\n",
       "    <tr style=\"text-align: right;\">\n",
       "      <th></th>\n",
       "      <th>id</th>\n",
       "      <th>keyword</th>\n",
       "      <th>location</th>\n",
       "      <th>text</th>\n",
       "      <th>target</th>\n",
       "    </tr>\n",
       "  </thead>\n",
       "  <tbody>\n",
       "    <tr>\n",
       "      <th>0</th>\n",
       "      <td>1</td>\n",
       "      <td>NaN</td>\n",
       "      <td>NaN</td>\n",
       "      <td>Our Deeds are the Reason of this #earthquake M...</td>\n",
       "      <td>1</td>\n",
       "    </tr>\n",
       "    <tr>\n",
       "      <th>1</th>\n",
       "      <td>4</td>\n",
       "      <td>NaN</td>\n",
       "      <td>NaN</td>\n",
       "      <td>Forest fire near La Ronge Sask. Canada</td>\n",
       "      <td>1</td>\n",
       "    </tr>\n",
       "    <tr>\n",
       "      <th>2</th>\n",
       "      <td>5</td>\n",
       "      <td>NaN</td>\n",
       "      <td>NaN</td>\n",
       "      <td>All residents asked to 'shelter in place' are ...</td>\n",
       "      <td>1</td>\n",
       "    </tr>\n",
       "    <tr>\n",
       "      <th>3</th>\n",
       "      <td>6</td>\n",
       "      <td>NaN</td>\n",
       "      <td>NaN</td>\n",
       "      <td>13,000 people receive #wildfires evacuation or...</td>\n",
       "      <td>1</td>\n",
       "    </tr>\n",
       "    <tr>\n",
       "      <th>4</th>\n",
       "      <td>7</td>\n",
       "      <td>NaN</td>\n",
       "      <td>NaN</td>\n",
       "      <td>Just got sent this photo from Ruby #Alaska as ...</td>\n",
       "      <td>1</td>\n",
       "    </tr>\n",
       "  </tbody>\n",
       "</table>\n",
       "</div>"
      ],
      "text/plain": [
       "   id keyword location                                               text  \\\n",
       "0   1     NaN      NaN  Our Deeds are the Reason of this #earthquake M...   \n",
       "1   4     NaN      NaN             Forest fire near La Ronge Sask. Canada   \n",
       "2   5     NaN      NaN  All residents asked to 'shelter in place' are ...   \n",
       "3   6     NaN      NaN  13,000 people receive #wildfires evacuation or...   \n",
       "4   7     NaN      NaN  Just got sent this photo from Ruby #Alaska as ...   \n",
       "\n",
       "   target  \n",
       "0       1  \n",
       "1       1  \n",
       "2       1  \n",
       "3       1  \n",
       "4       1  "
      ]
     },
     "execution_count": 2,
     "metadata": {},
     "output_type": "execute_result"
    }
   ],
   "source": [
    "train_df = pd.read_csv('/kaggle/input/nlp-getting-started/train.csv')\n",
    "train_df.head()"
   ]
  },
  {
   "cell_type": "code",
   "execution_count": 3,
   "id": "ff19f98f",
   "metadata": {
    "execution": {
     "iopub.execute_input": "2024-07-13T05:37:48.526970Z",
     "iopub.status.busy": "2024-07-13T05:37:48.526590Z",
     "iopub.status.idle": "2024-07-13T05:37:48.555511Z",
     "shell.execute_reply": "2024-07-13T05:37:48.554461Z"
    },
    "papermill": {
     "duration": 0.03641,
     "end_time": "2024-07-13T05:37:48.557878",
     "exception": false,
     "start_time": "2024-07-13T05:37:48.521468",
     "status": "completed"
    },
    "tags": []
   },
   "outputs": [
    {
     "data": {
      "text/html": [
       "<div>\n",
       "<style scoped>\n",
       "    .dataframe tbody tr th:only-of-type {\n",
       "        vertical-align: middle;\n",
       "    }\n",
       "\n",
       "    .dataframe tbody tr th {\n",
       "        vertical-align: top;\n",
       "    }\n",
       "\n",
       "    .dataframe thead th {\n",
       "        text-align: right;\n",
       "    }\n",
       "</style>\n",
       "<table border=\"1\" class=\"dataframe\">\n",
       "  <thead>\n",
       "    <tr style=\"text-align: right;\">\n",
       "      <th></th>\n",
       "      <th>id</th>\n",
       "      <th>keyword</th>\n",
       "      <th>location</th>\n",
       "      <th>text</th>\n",
       "    </tr>\n",
       "  </thead>\n",
       "  <tbody>\n",
       "    <tr>\n",
       "      <th>0</th>\n",
       "      <td>0</td>\n",
       "      <td>NaN</td>\n",
       "      <td>NaN</td>\n",
       "      <td>Just happened a terrible car crash</td>\n",
       "    </tr>\n",
       "    <tr>\n",
       "      <th>1</th>\n",
       "      <td>2</td>\n",
       "      <td>NaN</td>\n",
       "      <td>NaN</td>\n",
       "      <td>Heard about #earthquake is different cities, s...</td>\n",
       "    </tr>\n",
       "    <tr>\n",
       "      <th>2</th>\n",
       "      <td>3</td>\n",
       "      <td>NaN</td>\n",
       "      <td>NaN</td>\n",
       "      <td>there is a forest fire at spot pond, geese are...</td>\n",
       "    </tr>\n",
       "    <tr>\n",
       "      <th>3</th>\n",
       "      <td>9</td>\n",
       "      <td>NaN</td>\n",
       "      <td>NaN</td>\n",
       "      <td>Apocalypse lighting. #Spokane #wildfires</td>\n",
       "    </tr>\n",
       "    <tr>\n",
       "      <th>4</th>\n",
       "      <td>11</td>\n",
       "      <td>NaN</td>\n",
       "      <td>NaN</td>\n",
       "      <td>Typhoon Soudelor kills 28 in China and Taiwan</td>\n",
       "    </tr>\n",
       "  </tbody>\n",
       "</table>\n",
       "</div>"
      ],
      "text/plain": [
       "   id keyword location                                               text\n",
       "0   0     NaN      NaN                 Just happened a terrible car crash\n",
       "1   2     NaN      NaN  Heard about #earthquake is different cities, s...\n",
       "2   3     NaN      NaN  there is a forest fire at spot pond, geese are...\n",
       "3   9     NaN      NaN           Apocalypse lighting. #Spokane #wildfires\n",
       "4  11     NaN      NaN      Typhoon Soudelor kills 28 in China and Taiwan"
      ]
     },
     "execution_count": 3,
     "metadata": {},
     "output_type": "execute_result"
    }
   ],
   "source": [
    "test_df = pd.read_csv('/kaggle/input/nlp-getting-started/test.csv')\n",
    "test_df.head()"
   ]
  },
  {
   "cell_type": "code",
   "execution_count": 4,
   "id": "5f3b1a49",
   "metadata": {
    "execution": {
     "iopub.execute_input": "2024-07-13T05:37:48.567953Z",
     "iopub.status.busy": "2024-07-13T05:37:48.567610Z",
     "iopub.status.idle": "2024-07-13T05:37:49.678748Z",
     "shell.execute_reply": "2024-07-13T05:37:49.677686Z"
    },
    "papermill": {
     "duration": 1.119102,
     "end_time": "2024-07-13T05:37:49.681250",
     "exception": false,
     "start_time": "2024-07-13T05:37:48.562148",
     "status": "completed"
    },
    "tags": []
   },
   "outputs": [],
   "source": [
    "from sklearn.feature_extraction.text import re \n",
    "\n",
    "def clean_data(review):\n",
    "    \n",
    "    no_punc = re.sub(r'[^\\w\\s]', '', review)\n",
    "    no_digits = ''.join([i for i in no_punc if not i.isdigit()])\n",
    "    \n",
    "    return(no_digits)"
   ]
  },
  {
   "cell_type": "code",
   "execution_count": 5,
   "id": "3593f289",
   "metadata": {
    "execution": {
     "iopub.execute_input": "2024-07-13T05:37:49.691719Z",
     "iopub.status.busy": "2024-07-13T05:37:49.690832Z",
     "iopub.status.idle": "2024-07-13T05:37:49.821802Z",
     "shell.execute_reply": "2024-07-13T05:37:49.820806Z"
    },
    "papermill": {
     "duration": 0.1386,
     "end_time": "2024-07-13T05:37:49.824202",
     "exception": false,
     "start_time": "2024-07-13T05:37:49.685602",
     "status": "completed"
    },
    "tags": []
   },
   "outputs": [
    {
     "data": {
      "text/html": [
       "<div>\n",
       "<style scoped>\n",
       "    .dataframe tbody tr th:only-of-type {\n",
       "        vertical-align: middle;\n",
       "    }\n",
       "\n",
       "    .dataframe tbody tr th {\n",
       "        vertical-align: top;\n",
       "    }\n",
       "\n",
       "    .dataframe thead th {\n",
       "        text-align: right;\n",
       "    }\n",
       "</style>\n",
       "<table border=\"1\" class=\"dataframe\">\n",
       "  <thead>\n",
       "    <tr style=\"text-align: right;\">\n",
       "      <th></th>\n",
       "      <th>id</th>\n",
       "      <th>keyword</th>\n",
       "      <th>location</th>\n",
       "      <th>text</th>\n",
       "      <th>target</th>\n",
       "    </tr>\n",
       "  </thead>\n",
       "  <tbody>\n",
       "    <tr>\n",
       "      <th>0</th>\n",
       "      <td>1</td>\n",
       "      <td>NaN</td>\n",
       "      <td>NaN</td>\n",
       "      <td>Our Deeds are the Reason of this earthquake Ma...</td>\n",
       "      <td>1</td>\n",
       "    </tr>\n",
       "    <tr>\n",
       "      <th>1</th>\n",
       "      <td>4</td>\n",
       "      <td>NaN</td>\n",
       "      <td>NaN</td>\n",
       "      <td>Forest fire near La Ronge Sask Canada</td>\n",
       "      <td>1</td>\n",
       "    </tr>\n",
       "    <tr>\n",
       "      <th>2</th>\n",
       "      <td>5</td>\n",
       "      <td>NaN</td>\n",
       "      <td>NaN</td>\n",
       "      <td>All residents asked to shelter in place are be...</td>\n",
       "      <td>1</td>\n",
       "    </tr>\n",
       "    <tr>\n",
       "      <th>3</th>\n",
       "      <td>6</td>\n",
       "      <td>NaN</td>\n",
       "      <td>NaN</td>\n",
       "      <td>people receive wildfires evacuation orders in...</td>\n",
       "      <td>1</td>\n",
       "    </tr>\n",
       "    <tr>\n",
       "      <th>4</th>\n",
       "      <td>7</td>\n",
       "      <td>NaN</td>\n",
       "      <td>NaN</td>\n",
       "      <td>Just got sent this photo from Ruby Alaska as s...</td>\n",
       "      <td>1</td>\n",
       "    </tr>\n",
       "  </tbody>\n",
       "</table>\n",
       "</div>"
      ],
      "text/plain": [
       "   id keyword location                                               text  \\\n",
       "0   1     NaN      NaN  Our Deeds are the Reason of this earthquake Ma...   \n",
       "1   4     NaN      NaN              Forest fire near La Ronge Sask Canada   \n",
       "2   5     NaN      NaN  All residents asked to shelter in place are be...   \n",
       "3   6     NaN      NaN   people receive wildfires evacuation orders in...   \n",
       "4   7     NaN      NaN  Just got sent this photo from Ruby Alaska as s...   \n",
       "\n",
       "   target  \n",
       "0       1  \n",
       "1       1  \n",
       "2       1  \n",
       "3       1  \n",
       "4       1  "
      ]
     },
     "execution_count": 5,
     "metadata": {},
     "output_type": "execute_result"
    }
   ],
   "source": [
    "train_df['text'] = train_df['text'].apply(clean_data)\n",
    "train_df.head()"
   ]
  },
  {
   "cell_type": "code",
   "execution_count": 6,
   "id": "e7ab10b2",
   "metadata": {
    "execution": {
     "iopub.execute_input": "2024-07-13T05:37:49.834591Z",
     "iopub.status.busy": "2024-07-13T05:37:49.834204Z",
     "iopub.status.idle": "2024-07-13T05:37:49.839139Z",
     "shell.execute_reply": "2024-07-13T05:37:49.838117Z"
    },
    "papermill": {
     "duration": 0.012582,
     "end_time": "2024-07-13T05:37:49.841209",
     "exception": false,
     "start_time": "2024-07-13T05:37:49.828627",
     "status": "completed"
    },
    "tags": []
   },
   "outputs": [],
   "source": [
    "from sklearn.feature_extraction.text import TfidfVectorizer\n",
    "\n",
    "tfidf = TfidfVectorizer(strip_accents=None, \n",
    "                        lowercase=False,\n",
    "                        preprocessor=None)\n"
   ]
  },
  {
   "cell_type": "code",
   "execution_count": 7,
   "id": "d907fefa",
   "metadata": {
    "execution": {
     "iopub.execute_input": "2024-07-13T05:37:49.851496Z",
     "iopub.status.busy": "2024-07-13T05:37:49.851105Z",
     "iopub.status.idle": "2024-07-13T05:37:50.125478Z",
     "shell.execute_reply": "2024-07-13T05:37:50.124297Z"
    },
    "papermill": {
     "duration": 0.282252,
     "end_time": "2024-07-13T05:37:50.127899",
     "exception": false,
     "start_time": "2024-07-13T05:37:49.845647",
     "status": "completed"
    },
    "tags": []
   },
   "outputs": [
    {
     "name": "stdout",
     "output_type": "stream",
     "text": [
      "  (0, 11031)\t0.19884332395086907\n",
      "  (0, 25134)\t0.24603953893068053\n",
      "  (0, 3558)\t0.3914453902340943\n",
      "  (0, 63)\t0.3914453902340943\n",
      "  (0, 6009)\t0.30082823768839617\n",
      "  (0, 13627)\t0.28622660364397057\n",
      "  (0, 24602)\t0.1741042049015609\n",
      "  (0, 21694)\t0.10963305014140885\n",
      "  (0, 7769)\t0.344926680182544\n",
      "  (0, 24526)\t0.09901280251153625\n",
      "  (0, 11224)\t0.17537205873862796\n",
      "  (0, 2466)\t0.37427671845183064\n",
      "  (0, 6922)\t0.2812392983487301\n",
      "  (1, 1620)\t0.39890126574308604\n",
      "  (1, 8397)\t0.4692720083702215\n",
      "  (1, 8041)\t0.4692720083702215\n",
      "  (1, 5381)\t0.378319142950699\n",
      "  (1, 21469)\t0.3058762040061879\n",
      "  (1, 14212)\t0.24620203194640247\n",
      "  (1, 3556)\t0.3211608286734195\n",
      "  (2, 13954)\t0.21194424492428657\n",
      "  (2, 21819)\t0.21848587631574654\n",
      "  (2, 21808)\t0.1395899363313039\n",
      "  (2, 13878)\t0.1862791798090869\n",
      "  (2, 21836)\t0.187954824352966\n",
      "  :\t:\n",
      "  (7611, 13641)\t0.2948139096057356\n",
      "  (7611, 12538)\t0.2092644712554668\n",
      "  (7611, 24624)\t0.27169518727366526\n",
      "  (7611, 20125)\t0.23898132823837034\n",
      "  (7611, 5589)\t0.2581716016448193\n",
      "  (7611, 10941)\t0.1537541461733903\n",
      "  (7611, 23429)\t0.24590677921638318\n",
      "  (7611, 23030)\t0.2852187729025112\n",
      "  (7611, 25569)\t0.1253324778611153\n",
      "  (7611, 7340)\t0.19545702632977158\n",
      "  (7611, 12144)\t0.18975502540322647\n",
      "  (7611, 11106)\t0.15327192187852684\n",
      "  (7611, 19934)\t0.08546734934090927\n",
      "  (7612, 17516)\t0.43278904730357576\n",
      "  (7612, 7743)\t0.3326010974693421\n",
      "  (7612, 10478)\t0.3044756579773039\n",
      "  (7612, 5432)\t0.29138679435793696\n",
      "  (7612, 6)\t0.31094321464325586\n",
      "  (7612, 4410)\t0.32270858795867313\n",
      "  (7612, 6267)\t0.263742655720755\n",
      "  (7612, 6656)\t0.2727869710287155\n",
      "  (7612, 6570)\t0.24392465349711598\n",
      "  (7612, 9483)\t0.17095776546991998\n",
      "  (7612, 1589)\t0.24392465349711598\n",
      "  (7612, 12038)\t0.17729634526092355\n"
     ]
    }
   ],
   "source": [
    "X = tfidf.fit_transform(train_df['text'])\n",
    "y = train_df['target']\n",
    "print(X)"
   ]
  },
  {
   "cell_type": "markdown",
   "id": "74cac471",
   "metadata": {
    "papermill": {
     "duration": 0.004309,
     "end_time": "2024-07-13T05:37:50.136763",
     "exception": false,
     "start_time": "2024-07-13T05:37:50.132454",
     "status": "completed"
    },
    "tags": []
   },
   "source": [
    "# Model"
   ]
  },
  {
   "cell_type": "code",
   "execution_count": 8,
   "id": "ea827441",
   "metadata": {
    "execution": {
     "iopub.execute_input": "2024-07-13T05:37:50.147872Z",
     "iopub.status.busy": "2024-07-13T05:37:50.146925Z",
     "iopub.status.idle": "2024-07-13T05:38:02.615725Z",
     "shell.execute_reply": "2024-07-13T05:38:02.614745Z"
    },
    "papermill": {
     "duration": 12.477003,
     "end_time": "2024-07-13T05:38:02.618278",
     "exception": false,
     "start_time": "2024-07-13T05:37:50.141275",
     "status": "completed"
    },
    "tags": []
   },
   "outputs": [
    {
     "name": "stderr",
     "output_type": "stream",
     "text": [
      "2024-07-13 05:37:52.198431: E external/local_xla/xla/stream_executor/cuda/cuda_dnn.cc:9261] Unable to register cuDNN factory: Attempting to register factory for plugin cuDNN when one has already been registered\n",
      "2024-07-13 05:37:52.198552: E external/local_xla/xla/stream_executor/cuda/cuda_fft.cc:607] Unable to register cuFFT factory: Attempting to register factory for plugin cuFFT when one has already been registered\n",
      "2024-07-13 05:37:52.343572: E external/local_xla/xla/stream_executor/cuda/cuda_blas.cc:1515] Unable to register cuBLAS factory: Attempting to register factory for plugin cuBLAS when one has already been registered\n"
     ]
    }
   ],
   "source": [
    "import tensorflow as tf\n",
    "from tensorflow import keras\n"
   ]
  },
  {
   "cell_type": "code",
   "execution_count": 9,
   "id": "6a475adc",
   "metadata": {
    "execution": {
     "iopub.execute_input": "2024-07-13T05:38:02.629621Z",
     "iopub.status.busy": "2024-07-13T05:38:02.628966Z",
     "iopub.status.idle": "2024-07-13T05:38:02.675280Z",
     "shell.execute_reply": "2024-07-13T05:38:02.674200Z"
    },
    "papermill": {
     "duration": 0.054689,
     "end_time": "2024-07-13T05:38:02.677901",
     "exception": false,
     "start_time": "2024-07-13T05:38:02.623212",
     "status": "completed"
    },
    "tags": []
   },
   "outputs": [],
   "source": [
    "model = keras.Sequential([\n",
    "    keras.layers.Dense(128, activation='relu'), # Input layer with 128 neurons\n",
    "    keras.layers.Dense(64, activation='relu'), # Hidden layer with 64 neurons\n",
    "    keras.layers.Dense(32, activation='relu'), # Hidden layer with 32 neurons\n",
    "    keras.layers.Dense(16, activation='relu'), # Hidden layer with 16 neurons\n",
    "    keras.layers.Dense(8, activation='relu'), # Hidden layer with 8 neurons\n",
    "    keras.layers.Dense(4, activation='relu'), # Hidden layer with 4 neurons\n",
    "    keras.layers.Dense(2, activation='relu'), # Hidden layer with 2 neurons\n",
    "    keras.layers.Dense(1, activation='linear'), \n",
    "])"
   ]
  },
  {
   "cell_type": "code",
   "execution_count": 10,
   "id": "89bc093b",
   "metadata": {
    "execution": {
     "iopub.execute_input": "2024-07-13T05:38:02.700205Z",
     "iopub.status.busy": "2024-07-13T05:38:02.699810Z",
     "iopub.status.idle": "2024-07-13T05:38:02.740056Z",
     "shell.execute_reply": "2024-07-13T05:38:02.739176Z"
    },
    "papermill": {
     "duration": 0.048779,
     "end_time": "2024-07-13T05:38:02.742470",
     "exception": false,
     "start_time": "2024-07-13T05:38:02.693691",
     "status": "completed"
    },
    "tags": []
   },
   "outputs": [],
   "source": [
    "model.compile(optimizer='adam',\n",
    "              loss='binary_crossentropy',\n",
    "              metrics=['accuracy'])\n"
   ]
  },
  {
   "cell_type": "code",
   "execution_count": 11,
   "id": "a8d3fd2c",
   "metadata": {
    "execution": {
     "iopub.execute_input": "2024-07-13T05:38:02.753189Z",
     "iopub.status.busy": "2024-07-13T05:38:02.752832Z",
     "iopub.status.idle": "2024-07-13T05:38:29.124643Z",
     "shell.execute_reply": "2024-07-13T05:38:29.123311Z"
    },
    "papermill": {
     "duration": 26.380515,
     "end_time": "2024-07-13T05:38:29.127627",
     "exception": false,
     "start_time": "2024-07-13T05:38:02.747112",
     "status": "completed"
    },
    "tags": []
   },
   "outputs": [
    {
     "name": "stdout",
     "output_type": "stream",
     "text": [
      "Epoch 1/5\n",
      "\u001b[1m238/238\u001b[0m \u001b[32m━━━━━━━━━━━━━━━━━━━━\u001b[0m\u001b[37m\u001b[0m \u001b[1m8s\u001b[0m 20ms/step - accuracy: 0.5657 - loss: 6.9998\n",
      "Epoch 2/5\n",
      "\u001b[1m238/238\u001b[0m \u001b[32m━━━━━━━━━━━━━━━━━━━━\u001b[0m\u001b[37m\u001b[0m \u001b[1m4s\u001b[0m 18ms/step - accuracy: 0.5717 - loss: 6.9041\n",
      "Epoch 3/5\n",
      "\u001b[1m238/238\u001b[0m \u001b[32m━━━━━━━━━━━━━━━━━━━━\u001b[0m\u001b[37m\u001b[0m \u001b[1m4s\u001b[0m 17ms/step - accuracy: 0.5734 - loss: 6.8763\n",
      "Epoch 4/5\n",
      "\u001b[1m238/238\u001b[0m \u001b[32m━━━━━━━━━━━━━━━━━━━━\u001b[0m\u001b[37m\u001b[0m \u001b[1m4s\u001b[0m 18ms/step - accuracy: 0.5671 - loss: 6.9770\n",
      "Epoch 5/5\n",
      "\u001b[1m238/238\u001b[0m \u001b[32m━━━━━━━━━━━━━━━━━━━━\u001b[0m\u001b[37m\u001b[0m \u001b[1m4s\u001b[0m 18ms/step - accuracy: 0.5742 - loss: 6.8630\n"
     ]
    },
    {
     "data": {
      "text/plain": [
       "<keras.src.callbacks.history.History at 0x79000bb8b6d0>"
      ]
     },
     "execution_count": 11,
     "metadata": {},
     "output_type": "execute_result"
    }
   ],
   "source": [
    "model.fit(X, y, epochs=5)"
   ]
  },
  {
   "cell_type": "code",
   "execution_count": null,
   "id": "8163fab2",
   "metadata": {
    "papermill": {
     "duration": 0.030931,
     "end_time": "2024-07-13T05:38:29.190475",
     "exception": false,
     "start_time": "2024-07-13T05:38:29.159544",
     "status": "completed"
    },
    "tags": []
   },
   "outputs": [],
   "source": []
  }
 ],
 "metadata": {
  "kaggle": {
   "accelerator": "none",
   "dataSources": [
    {
     "databundleVersionId": 869809,
     "sourceId": 17777,
     "sourceType": "competition"
    }
   ],
   "dockerImageVersionId": 30746,
   "isGpuEnabled": false,
   "isInternetEnabled": true,
   "language": "python",
   "sourceType": "notebook"
  },
  "kernelspec": {
   "display_name": "Python 3",
   "language": "python",
   "name": "python3"
  },
  "language_info": {
   "codemirror_mode": {
    "name": "ipython",
    "version": 3
   },
   "file_extension": ".py",
   "mimetype": "text/x-python",
   "name": "python",
   "nbconvert_exporter": "python",
   "pygments_lexer": "ipython3",
   "version": "3.10.13"
  },
  "papermill": {
   "default_parameters": {},
   "duration": 46.297811,
   "end_time": "2024-07-13T05:38:30.845611",
   "environment_variables": {},
   "exception": null,
   "input_path": "__notebook__.ipynb",
   "output_path": "__notebook__.ipynb",
   "parameters": {},
   "start_time": "2024-07-13T05:37:44.547800",
   "version": "2.5.0"
  }
 },
 "nbformat": 4,
 "nbformat_minor": 5
}
